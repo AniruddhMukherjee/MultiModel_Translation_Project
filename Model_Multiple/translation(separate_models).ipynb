{
  "nbformat": 4,
  "nbformat_minor": 0,
  "metadata": {
    "colab": {
      "provenance": [],
      "gpuType": "T4",
      "authorship_tag": "ABX9TyNm2B2yO52R5/KDpxjL7DVb",
      "include_colab_link": true
    },
    "kernelspec": {
      "name": "python3",
      "display_name": "Python 3"
    },
    "language_info": {
      "name": "python"
    },
    "accelerator": "GPU"
  },
  "cells": [
    {
      "cell_type": "markdown",
      "metadata": {
        "id": "view-in-github",
        "colab_type": "text"
      },
      "source": [
        "<a href=\"https://colab.research.google.com/github/AniruddhMukherjee/MultiModel_Translation_Project/blob/main/translation(separate_models).ipynb\" target=\"_parent\"><img src=\"https://colab.research.google.com/assets/colab-badge.svg\" alt=\"Open In Colab\"/></a>"
      ]
    },
    {
      "cell_type": "code",
      "source": [
        "import pandas as pd\n",
        "import numpy as np\n",
        "import tensorflow as tf\n",
        "from tensorflow.keras.preprocessing.text import Tokenizer\n",
        "from tensorflow.keras.preprocessing.sequence import pad_sequences\n",
        "from tensorflow.keras.models import Model\n",
        "from tensorflow.keras.layers import Input, Embedding, LSTM, Dense, TimeDistributed, Concatenate\n",
        "from tqdm import tqdm\n",
        "import re"
      ],
      "metadata": {
        "id": "UW7SE_oJnwuQ"
      },
      "execution_count": 15,
      "outputs": []
    },
    {
      "cell_type": "code",
      "execution_count": 16,
      "metadata": {
        "id": "kKMa6Qd-uAqI"
      },
      "outputs": [],
      "source": [
        "# Function to clean text\n",
        "def clean_text(text):\n",
        "    text = text.lower()\n",
        "    text = re.sub(r'[^\\w\\s]', '', text)  # Remove punctuation\n",
        "    text = text.strip()\n",
        "    return text"
      ]
    },
    {
      "cell_type": "code",
      "source": [
        "# Function to load and preprocess dataset\n",
        "def load_and_preprocess_dataset(filepath, max_len):\n",
        "    data = pd.read_csv(filepath, sep='\\t', header=None, names=[\"source\", \"target\", \"metadata\"])\n",
        "    data[\"source\"] = data[\"source\"].apply(clean_text)\n",
        "    data[\"target\"] = data[\"target\"].apply(clean_text).apply(lambda x: '<START> ' + x + ' <END>')\n",
        "    return data"
      ],
      "metadata": {
        "id": "NCQ6kuuWudmR"
      },
      "execution_count": 17,
      "outputs": []
    },
    {
      "cell_type": "code",
      "source": [
        "# Function to tokenize and pad sequences\n",
        "def tokenize_and_pad(data, max_len):\n",
        "    tokenizer = Tokenizer()\n",
        "    tokenizer.fit_on_texts(data)\n",
        "    vocab_size = len(tokenizer.word_index) + 1\n",
        "    sequences = tokenizer.texts_to_sequences(data)\n",
        "    pad_sequences_ = pad_sequences(sequences, maxlen=max_len, padding='post', truncating='post')\n",
        "    return tokenizer, vocab_size, pad_sequences_"
      ],
      "metadata": {
        "id": "IiC2YotAuk6r"
      },
      "execution_count": 18,
      "outputs": []
    },
    {
      "cell_type": "code",
      "source": [
        "# Load datasets for all languages\n",
        "datasets = {\n",
        "    \"german\": \"/content/deu.txt\",\n",
        "    \"hindi\": \"/content/hin.txt\",\n",
        "    \"bengali\": \"/content/ben.txt\",\n",
        "    \"marathi\": \"/content/mar.txt\"\n",
        "}\n",
        "\n",
        "max_len = 40  # Set maximum sequence length for padding\n",
        "processed_data = {}"
      ],
      "metadata": {
        "id": "keMERVM8vL6E"
      },
      "execution_count": 20,
      "outputs": []
    },
    {
      "cell_type": "code",
      "source": [
        "for lang, filepath in datasets.items():\n",
        "    print(f\"Processing dataset for {lang.capitalize()}...\")\n",
        "    data = load_and_preprocess_dataset(filepath, max_len)\n",
        "    processed_data[lang] = data\n",
        "\n",
        "# Tokenize and pad sequences\n",
        "tokenizers = {}\n",
        "vocab_sizes = {}\n",
        "padded_sequences = {}"
      ],
      "metadata": {
        "colab": {
          "base_uri": "https://localhost:8080/"
        },
        "id": "OvLLfrArvRst",
        "outputId": "35d277e8-1320-48d8-8688-e348a32cc039"
      },
      "execution_count": 21,
      "outputs": [
        {
          "output_type": "stream",
          "name": "stdout",
          "text": [
            "Processing dataset for German...\n",
            "Processing dataset for Hindi...\n",
            "Processing dataset for Bengali...\n",
            "Processing dataset for Marathi...\n"
          ]
        }
      ]
    },
    {
      "cell_type": "code",
      "source": [
        "for lang, data in processed_data.items():\n",
        "    print(f\"Tokenizing and padding for {lang.capitalize()}...\")\n",
        "    src_tokenizer, src_vocab_size, src_pad_seq = tokenize_and_pad(data[\"source\"], max_len)\n",
        "    tgt_tokenizer, tgt_vocab_size, tgt_pad_seq = tokenize_and_pad(data[\"target\"], max_len)\n",
        "\n",
        "    tokenizers[lang] = {\"source\": src_tokenizer, \"target\": tgt_tokenizer}\n",
        "    vocab_sizes[lang] = {\"source\": src_vocab_size, \"target\": tgt_vocab_size}\n",
        "    padded_sequences[lang] = {\"source\": src_pad_seq, \"target\": tgt_pad_seq}\n"
      ],
      "metadata": {
        "colab": {
          "base_uri": "https://localhost:8080/"
        },
        "id": "fm5PAPcrvjCg",
        "outputId": "48b5d075-8626-4303-c6e3-ae28e6e41e52"
      },
      "execution_count": 22,
      "outputs": [
        {
          "output_type": "stream",
          "name": "stdout",
          "text": [
            "Tokenizing and padding for German...\n",
            "Tokenizing and padding for Hindi...\n",
            "Tokenizing and padding for Bengali...\n",
            "Tokenizing and padding for Marathi...\n"
          ]
        }
      ]
    },
    {
      "cell_type": "code",
      "source": [
        "# Define the attention layer\n",
        "class AttentionLayer(tf.keras.layers.Layer):\n",
        "    def __init__(self, **kwargs):\n",
        "        super(AttentionLayer, self).__init__(**kwargs)\n",
        "\n",
        "    def build(self, input_shape):\n",
        "        self.W_a = self.add_weight(name='W_a',\n",
        "                                   shape=(input_shape[0][2], input_shape[0][2]),\n",
        "                                   initializer='uniform',\n",
        "                                   trainable=True)\n",
        "        self.U_a = self.add_weight(name='U_a',\n",
        "                                   shape=(input_shape[1][2], input_shape[0][2]),\n",
        "                                   initializer='uniform',\n",
        "                                   trainable=True)\n",
        "        self.V_a = self.add_weight(name='V_a',\n",
        "                                   shape=(input_shape[0][2], 1),\n",
        "                                   initializer='uniform',\n",
        "                                   trainable=True)\n",
        "        super(AttentionLayer, self).build(input_shape)\n",
        "\n",
        "    def call(self, inputs):\n",
        "        encoder_out_seq, decoder_out_seq = inputs\n",
        "\n",
        "        def energy_step(inputs, states):\n",
        "            encoder_full_seq = states[-1]\n",
        "            W_a_dot_s = tf.keras.backend.dot(encoder_full_seq, self.W_a)\n",
        "            U_a_dot_h = tf.keras.backend.expand_dims(tf.keras.backend.dot(inputs, self.U_a), 1)\n",
        "            e_i = tf.keras.backend.softmax(\n",
        "                tf.keras.backend.squeeze(tf.keras.backend.dot(tf.keras.backend.tanh(W_a_dot_s + U_a_dot_h), self.V_a),\n",
        "                                         axis=-1))\n",
        "            return e_i, [e_i]\n",
        "\n",
        "        def context_step(inputs, states):\n",
        "            encoder_full_seq = states[-1]\n",
        "            c_i = tf.keras.backend.sum(encoder_full_seq * tf.keras.backend.expand_dims(inputs, -1), axis=1)\n",
        "            return c_i, [c_i]\n",
        "\n",
        "        fake_state_c = tf.keras.backend.sum(encoder_out_seq, axis=1)\n",
        "        fake_state_e = tf.keras.backend.sum(encoder_out_seq, axis=2)\n",
        "        _, e_outputs, _ = tf.keras.backend.rnn(energy_step, decoder_out_seq, [fake_state_e], constants=[encoder_out_seq])\n",
        "        _, c_outputs, _ = tf.keras.backend.rnn(context_step, e_outputs, [fake_state_c], constants=[encoder_out_seq])\n",
        "\n",
        "        return c_outputs, e_outputs"
      ],
      "metadata": {
        "id": "JQZDfGuivniY"
      },
      "execution_count": 23,
      "outputs": []
    },
    {
      "cell_type": "code",
      "source": [
        "# Function to build the translation model\n",
        "def build_translation_model(src_vocab_size, tgt_vocab_size):\n",
        "    encoder_inputs = Input(shape=(max_len,))\n",
        "    encoder_emb = Embedding(src_vocab_size, 100, trainable=True)(encoder_inputs)\n",
        "\n",
        "    encoder_lstm = LSTM(300, return_sequences=True, return_state=True, dropout=0.3, recurrent_dropout=0.2)\n",
        "    encoder_outputs, state_h, state_c = encoder_lstm(encoder_emb)\n",
        "    encoder_states = [state_h, state_c]\n",
        "\n",
        "    decoder_inputs = Input(shape=(None,))\n",
        "    decoder_emb = Embedding(tgt_vocab_size, 100, trainable=True)(decoder_inputs)\n",
        "    decoder_lstm = LSTM(300, return_sequences=True, return_state=True, dropout=0.3, recurrent_dropout=0.2)\n",
        "    decoder_outputs, _, _ = decoder_lstm(decoder_emb, initial_state=encoder_states)\n",
        "\n",
        "    attn_layer = AttentionLayer()\n",
        "    attn_outputs, attn_states = attn_layer([encoder_outputs, decoder_outputs])\n",
        "    decoder_concat_outputs = Concatenate(axis=-1)([decoder_outputs, attn_outputs])\n",
        "\n",
        "    decoder_dense = TimeDistributed(Dense(tgt_vocab_size, activation='softmax'))\n",
        "    decoder_outputs = decoder_dense(decoder_concat_outputs)\n",
        "\n",
        "    model = Model([encoder_inputs, decoder_inputs], decoder_outputs)\n",
        "    return model"
      ],
      "metadata": {
        "id": "k_yRbtc5ynEE"
      },
      "execution_count": 24,
      "outputs": []
    },
    {
      "cell_type": "code",
      "source": [
        "# Train and save models for all language pairs\n",
        "for lang, data in processed_data.items():\n",
        "    print(f\"Building model for English to {lang.capitalize()}...\")\n",
        "    src_vocab_size = vocab_sizes[lang][\"source\"]\n",
        "    tgt_vocab_size = vocab_sizes[lang][\"target\"]\n",
        "    model = build_translation_model(src_vocab_size, tgt_vocab_size)\n",
        "    model.compile(optimizer='adam', loss='sparse_categorical_crossentropy')\n",
        "\n",
        "    # Train the model\n",
        "    model.fit([padded_sequences[lang][\"source\"], padded_sequences[lang][\"target\"][:, :-1]],\n",
        "              padded_sequences[lang][\"target\"][:, 1:],\n",
        "              batch_size=64, epochs=1, validation_split=0.1)"
      ],
      "metadata": {
        "colab": {
          "base_uri": "https://localhost:8080/"
        },
        "id": "MdG14Anly5Ws",
        "outputId": "b9fb32e3-c425-4283-fe75-65ce5b458f3a"
      },
      "execution_count": 25,
      "outputs": [
        {
          "output_type": "stream",
          "name": "stdout",
          "text": [
            "Building model for English to German...\n",
            "\u001b[1m3908/3908\u001b[0m \u001b[32m━━━━━━━━━━━━━━━━━━━━\u001b[0m\u001b[37m\u001b[0m \u001b[1m1949s\u001b[0m 495ms/step - loss: 1.0537 - val_loss: 1.3198\n",
            "Building model for English to Hindi...\n",
            "\u001b[1m44/44\u001b[0m \u001b[32m━━━━━━━━━━━━━━━━━━━━\u001b[0m\u001b[37m\u001b[0m \u001b[1m19s\u001b[0m 283ms/step - loss: 3.3413 - val_loss: 2.0375\n",
            "Building model for English to Bengali...\n",
            "\u001b[1m92/92\u001b[0m \u001b[32m━━━━━━━━━━━━━━━━━━━━\u001b[0m\u001b[37m\u001b[0m \u001b[1m33s\u001b[0m 264ms/step - loss: 2.4354 - val_loss: 1.5538\n",
            "Building model for English to Marathi...\n",
            "\u001b[1m661/661\u001b[0m \u001b[32m━━━━━━━━━━━━━━━━━━━━\u001b[0m\u001b[37m\u001b[0m \u001b[1m210s\u001b[0m 306ms/step - loss: 1.2462 - val_loss: 1.3568\n"
          ]
        }
      ]
    },
    {
      "cell_type": "code",
      "source": [
        "for lang, data in processed_data.items():\n",
        "      model_name = f'english_to_{lang}_translator.h5'\n",
        "      model.save(model_name)\n",
        "      print(f\"Model saved as {model_name}\")"
      ],
      "metadata": {
        "colab": {
          "base_uri": "https://localhost:8080/"
        },
        "id": "zkRJfjoqvtDt",
        "outputId": "5f783a0c-338b-4e34-bb56-5f8ede959606"
      },
      "execution_count": 26,
      "outputs": [
        {
          "output_type": "stream",
          "name": "stderr",
          "text": [
            "WARNING:absl:You are saving your model as an HDF5 file via `model.save()` or `keras.saving.save_model(model)`. This file format is considered legacy. We recommend using instead the native Keras format, e.g. `model.save('my_model.keras')` or `keras.saving.save_model(model, 'my_model.keras')`. \n",
            "WARNING:absl:You are saving your model as an HDF5 file via `model.save()` or `keras.saving.save_model(model)`. This file format is considered legacy. We recommend using instead the native Keras format, e.g. `model.save('my_model.keras')` or `keras.saving.save_model(model, 'my_model.keras')`. \n"
          ]
        },
        {
          "output_type": "stream",
          "name": "stdout",
          "text": [
            "Model saved as english_to_german_translator.h5\n"
          ]
        },
        {
          "output_type": "stream",
          "name": "stderr",
          "text": [
            "WARNING:absl:You are saving your model as an HDF5 file via `model.save()` or `keras.saving.save_model(model)`. This file format is considered legacy. We recommend using instead the native Keras format, e.g. `model.save('my_model.keras')` or `keras.saving.save_model(model, 'my_model.keras')`. \n"
          ]
        },
        {
          "output_type": "stream",
          "name": "stdout",
          "text": [
            "Model saved as english_to_hindi_translator.h5\n"
          ]
        },
        {
          "output_type": "stream",
          "name": "stderr",
          "text": [
            "WARNING:absl:You are saving your model as an HDF5 file via `model.save()` or `keras.saving.save_model(model)`. This file format is considered legacy. We recommend using instead the native Keras format, e.g. `model.save('my_model.keras')` or `keras.saving.save_model(model, 'my_model.keras')`. \n"
          ]
        },
        {
          "output_type": "stream",
          "name": "stdout",
          "text": [
            "Model saved as english_to_bengali_translator.h5\n",
            "Model saved as english_to_marathi_translator.h5\n"
          ]
        }
      ]
    },
    {
      "cell_type": "code",
      "source": [],
      "metadata": {
        "id": "6VKfVR-C78D4"
      },
      "execution_count": null,
      "outputs": []
    }
  ]
}
